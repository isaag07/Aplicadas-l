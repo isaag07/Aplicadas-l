{
  "nbformat": 4,
  "nbformat_minor": 0,
  "metadata": {
    "colab": {
      "provenance": [],
      "authorship_tag": "ABX9TyM8gFqdkIF4ar8k/RLhWcjq",
      "include_colab_link": true
    },
    "kernelspec": {
      "name": "python3",
      "display_name": "Python 3"
    },
    "language_info": {
      "name": "python"
    }
  },
  "cells": [
    {
      "cell_type": "markdown",
      "metadata": {
        "id": "view-in-github",
        "colab_type": "text"
      },
      "source": [
        "<a href=\"https://colab.research.google.com/github/isaag07/Aplicadas-l/blob/main/Practica%20Latexx.ipynb\" target=\"_parent\"><img src=\"https://colab.research.google.com/assets/colab-badge.svg\" alt=\"Open In Colab\"/></a>"
      ]
    },
    {
      "cell_type": "markdown",
      "source": [
        "$x^2$\n",
        "\n",
        "$\\pm$\n",
        "\n",
        "$⇔$\n",
        "\n",
        "$\\infty$\n",
        "\n",
        "\n",
        "$\\frac{a}{b}$\n",
        "\n",
        "\n",
        "$\\sqrt{25}$\n",
        "\n",
        "$\\oint$\n",
        "\n",
        "\n",
        "$e^{\\pi i}+1=0$\n",
        "\n",
        "\n",
        "$x=\\frac{-b\\pm\\sqrt{b^2-4ac}}{2a}$\n",
        "\n",
        "\n",
        "$\\sqrt[3]{5}$\n",
        "\n",
        "\n",
        "\n"
      ],
      "metadata": {
        "id": "IHT3UA1tznx3"
      }
    },
    {
      "cell_type": "code",
      "execution_count": null,
      "metadata": {
        "id": "JcLWuBytzlxJ"
      },
      "outputs": [],
      "source": []
    }
  ]
}