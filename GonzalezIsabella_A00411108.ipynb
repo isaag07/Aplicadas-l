{
  "nbformat": 4,
  "nbformat_minor": 0,
  "metadata": {
    "colab": {
      "provenance": [],
      "authorship_tag": "ABX9TyO6993C/zro1UPJt55idBIx",
      "include_colab_link": true
    },
    "kernelspec": {
      "name": "python3",
      "display_name": "Python 3"
    },
    "language_info": {
      "name": "python"
    }
  },
  "cells": [
    {
      "cell_type": "markdown",
      "metadata": {
        "id": "view-in-github",
        "colab_type": "text"
      },
      "source": [
        "<a href=\"https://colab.research.google.com/github/isaag07/Aplicadas-l/blob/main/GonzalezIsabella_A00411108.ipynb\" target=\"_parent\"><img src=\"https://colab.research.google.com/assets/colab-badge.svg\" alt=\"Open In Colab\"/></a>"
      ]
    },
    {
      "cell_type": "markdown",
      "source": [
        "#**Actividad de Reconocimiento**\n",
        "\n",
        "#Autobiografía:\n",
        "\n",
        "Mi nombre es Isabella González, tengo 19 años y nací en la hermosa ciudad de Cali, Colombia. Desde pequeña, siempre he sentido una gran pasión por el deporte, especialmente el voleibol, el cual practico desde los 10 años. Actualmente, estoy en mi segundo semestre de Ingeniería de Sistemas, una carrera que me ha permitido desarrollar mi lógica y creatividad para resolver problemas tecnológicos.  \n",
        "\n",
        "Además de mi amor por el deporte y la tecnología, viajar es una de mis mayores pasiones. No hay nada que disfrute más que explorar nuevos lugares, pero si hay un destino que realmente me llena de felicidad, es la playa. Amo el mar, su inmensidad y tranquilidad me transmiten una paz indescriptible.  \n",
        "\n",
        "Me considero una persona disciplinada y apasionada por lo que hago. Creo que la perseverancia y el aprendizaje constante son clave para alcanzar cualquier meta. Mi objetivo es seguir creciendo tanto personal como profesionalmente, disfrutando cada paso del camino y enfrentando los desafíos con determinación.\n",
        "\n",
        "##Foto favorita:\n",
        "\n",
        "##Top 5 canciones favoritas:\n",
        "\n",
        "\n",
        "1.   Congratulations\n",
        "\n",
        ">*   *By Mac Miller feat. Bilal*\n",
        "\n",
        "\n",
        "2.   Massive\n",
        "\n",
        ">*   *By Drake*\n",
        "\n",
        "\n",
        "3.   Still Want U\n",
        "\n",
        ">*   *By ZHU & Karnaval Blues*\n",
        "\n",
        "\n",
        "4.   Soundgasm\n",
        "\n",
        ">*   *By Rema*\n",
        "\n",
        "\n",
        "5.   Make You Mine\n",
        "\n",
        ">*   *By GIVEON*\n",
        "\n",
        "\n",
        "##Asignaturas favoritas:\n",
        "\n",
        "|Asignaturas|Razones  |\n",
        "|-----------|---------|\n",
        "|Matematicas|Siempre me han gustado las matematicas porque me gusta resolver problemas, me gustan los retos, y me da mucha satisfaccion lograr decifrar las respuestas correctas despues de haberle dedicado tiempo. |\n",
        "|Ingles     |En general me gusta mucho el idioma, escuchar muscia y ver series en ingles y siempre me ha ido bien en esta materia.|\n",
        "|Deporte    |Me encanta el deporte en general, y era de mis materias favoritas en el colegio porque podia jugar volleyball|\n",
        "\n",
        "\n",
        "\n",
        "\n",
        "\n",
        "\n",
        "\n",
        "\n",
        "\n",
        "\n",
        "\n",
        "\n",
        "\n",
        "\n",
        "\n",
        "\n",
        "\n"
      ],
      "metadata": {
        "id": "dYcf63HnW52X"
      }
    }
  ]
}