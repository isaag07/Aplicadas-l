{
  "nbformat": 4,
  "nbformat_minor": 0,
  "metadata": {
    "colab": {
      "provenance": [],
      "authorship_tag": "ABX9TyPedjJGEuC008HgYL3oWMQW",
      "include_colab_link": true
    },
    "kernelspec": {
      "name": "python3",
      "display_name": "Python 3"
    },
    "language_info": {
      "name": "python"
    }
  },
  "cells": [
    {
      "cell_type": "markdown",
      "metadata": {
        "id": "view-in-github",
        "colab_type": "text"
      },
      "source": [
        "<a href=\"https://colab.research.google.com/github/isaag07/Aplicadas-l/blob/main/Python.ipynb\" target=\"_parent\"><img src=\"https://colab.research.google.com/assets/colab-badge.svg\" alt=\"Open In Colab\"/></a>"
      ]
    },
    {
      "cell_type": "code",
      "source": [
        "result1=1/5*(((1/2)**2)+((3/4)**2))+10/25*(((1/2)**2)+((3/4)**2))+8/40*(((1/2)**2)+((3/4)**2))\n",
        "print(result1)"
      ],
      "metadata": {
        "id": "kUuzs8QTMxGd",
        "outputId": "8b5549e7-7f52-476c-ed47-f5e5561fc4c1",
        "colab": {
          "base_uri": "https://localhost:8080/"
        }
      },
      "execution_count": null,
      "outputs": [
        {
          "output_type": "stream",
          "name": "stdout",
          "text": [
            "0.65\n"
          ]
        }
      ]
    },
    {
      "cell_type": "code",
      "source": [
        "result2=(9/4*(6/8)**-1)-(5/2*(25/20)**-1)+(40/8*(20/16)**-1)\n",
        "print(result2)"
      ],
      "metadata": {
        "id": "Sf6geoWwOIAa",
        "outputId": "d5429559-38af-478b-b06d-d24d82d4307b",
        "colab": {
          "base_uri": "https://localhost:8080/"
        }
      },
      "execution_count": null,
      "outputs": [
        {
          "output_type": "execute_result",
          "data": {
            "text/plain": [
              "5.0"
            ]
          },
          "metadata": {},
          "execution_count": 11
        }
      ]
    },
    {
      "cell_type": "code",
      "source": [
        "print(\"Hola Mundo!!\")"
      ],
      "metadata": {
        "id": "PGxteDQVvL7x",
        "outputId": "7a2b3829-36f0-47a3-80dc-5acf6f5f8716",
        "colab": {
          "base_uri": "https://localhost:8080/"
        }
      },
      "execution_count": 1,
      "outputs": [
        {
          "output_type": "stream",
          "name": "stdout",
          "text": [
            "Hola Mundo!!\n"
          ]
        }
      ]
    }
  ]
}